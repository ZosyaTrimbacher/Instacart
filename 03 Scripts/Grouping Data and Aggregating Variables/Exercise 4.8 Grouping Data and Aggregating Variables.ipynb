{
 "cells": [
  {
   "cell_type": "code",
   "execution_count": 2,
   "id": "ade4a739-2848-4a76-9fba-bdb19e4cda4d",
   "metadata": {},
   "outputs": [],
   "source": [
    "# Import libraries\n",
    "import pandas as pd\n",
    "import numpy as np\n",
    "import os"
   ]
  },
  {
   "cell_type": "code",
   "execution_count": 3,
   "id": "e5059c9d-a612-4770-adc4-e456393e27ef",
   "metadata": {},
   "outputs": [],
   "source": [
    "# Importing the ords_prods_merge dataframe\n",
    "path = r'C:\\Users\\ztrim\\06-2025 Instacart Basket Analysis'"
   ]
  },
  {
   "cell_type": "code",
   "execution_count": 4,
   "id": "b5684b85-91c6-4528-9826-96467fe5ac0e",
   "metadata": {},
   "outputs": [
    {
     "data": {
      "text/plain": [
       "'C:\\\\Users\\\\ztrim\\\\06-2025 Instacart Basket Analysis'"
      ]
     },
     "execution_count": 4,
     "metadata": {},
     "output_type": "execute_result"
    }
   ],
   "source": [
    "path"
   ]
  },
  {
   "cell_type": "code",
   "execution_count": 5,
   "id": "168d32f0-d4b4-48bf-9d70-2964ace7082e",
   "metadata": {},
   "outputs": [],
   "source": [
    "ords_prods_merge = pd.read_pickle(os.path.join(path, '02 Data', 'Prepared Data', 'ords_prods_merge.pkl'))"
   ]
  },
  {
   "cell_type": "code",
   "execution_count": 6,
   "id": "10ec7695-f4b2-4863-b515-d7f1d3df0782",
   "metadata": {},
   "outputs": [
    {
     "data": {
      "text/plain": [
       "(32404859, 21)"
      ]
     },
     "execution_count": 6,
     "metadata": {},
     "output_type": "execute_result"
    }
   ],
   "source": [
    "# Check dataframe\n",
    "ords_prods_merge.shape"
   ]
  },
  {
   "cell_type": "code",
   "execution_count": 7,
   "id": "964ca0e9-a401-40ae-8c4c-32e1c332389b",
   "metadata": {},
   "outputs": [
    {
     "data": {
      "text/html": [
       "<div>\n",
       "<style scoped>\n",
       "    .dataframe tbody tr th:only-of-type {\n",
       "        vertical-align: middle;\n",
       "    }\n",
       "\n",
       "    .dataframe tbody tr th {\n",
       "        vertical-align: top;\n",
       "    }\n",
       "\n",
       "    .dataframe thead th {\n",
       "        text-align: right;\n",
       "    }\n",
       "</style>\n",
       "<table border=\"1\" class=\"dataframe\">\n",
       "  <thead>\n",
       "    <tr style=\"text-align: right;\">\n",
       "      <th></th>\n",
       "      <th>Unnamed: 0.1</th>\n",
       "      <th>Unnamed: 0_x</th>\n",
       "      <th>order_id</th>\n",
       "      <th>user_id</th>\n",
       "      <th>customers_current_order_number</th>\n",
       "      <th>orders_day_of_week</th>\n",
       "      <th>order_hour_of_day</th>\n",
       "      <th>days_since_prior_order</th>\n",
       "      <th>product_id</th>\n",
       "      <th>add_to_cart_order</th>\n",
       "      <th>...</th>\n",
       "      <th>_merge</th>\n",
       "      <th>Unnamed: 0_y</th>\n",
       "      <th>product_name</th>\n",
       "      <th>aisle_id</th>\n",
       "      <th>department_id</th>\n",
       "      <th>prices</th>\n",
       "      <th>match</th>\n",
       "      <th>busiest_day</th>\n",
       "      <th>busiest_days</th>\n",
       "      <th>busiest_period_of_day</th>\n",
       "    </tr>\n",
       "  </thead>\n",
       "  <tbody>\n",
       "    <tr>\n",
       "      <th>0</th>\n",
       "      <td>0</td>\n",
       "      <td>0</td>\n",
       "      <td>2539329</td>\n",
       "      <td>1</td>\n",
       "      <td>1</td>\n",
       "      <td>2</td>\n",
       "      <td>8</td>\n",
       "      <td>NaN</td>\n",
       "      <td>196</td>\n",
       "      <td>1</td>\n",
       "      <td>...</td>\n",
       "      <td>both</td>\n",
       "      <td>195</td>\n",
       "      <td>Soda</td>\n",
       "      <td>77</td>\n",
       "      <td>7</td>\n",
       "      <td>9.0</td>\n",
       "      <td>both</td>\n",
       "      <td>Regularly busy</td>\n",
       "      <td>Regularly busy</td>\n",
       "      <td>Average orders</td>\n",
       "    </tr>\n",
       "    <tr>\n",
       "      <th>1</th>\n",
       "      <td>0</td>\n",
       "      <td>0</td>\n",
       "      <td>2539329</td>\n",
       "      <td>1</td>\n",
       "      <td>1</td>\n",
       "      <td>2</td>\n",
       "      <td>8</td>\n",
       "      <td>NaN</td>\n",
       "      <td>14084</td>\n",
       "      <td>2</td>\n",
       "      <td>...</td>\n",
       "      <td>both</td>\n",
       "      <td>14084</td>\n",
       "      <td>Organic Unsweetened Vanilla Almond Milk</td>\n",
       "      <td>91</td>\n",
       "      <td>16</td>\n",
       "      <td>12.5</td>\n",
       "      <td>both</td>\n",
       "      <td>Regularly busy</td>\n",
       "      <td>Regularly busy</td>\n",
       "      <td>Average orders</td>\n",
       "    </tr>\n",
       "    <tr>\n",
       "      <th>2</th>\n",
       "      <td>0</td>\n",
       "      <td>0</td>\n",
       "      <td>2539329</td>\n",
       "      <td>1</td>\n",
       "      <td>1</td>\n",
       "      <td>2</td>\n",
       "      <td>8</td>\n",
       "      <td>NaN</td>\n",
       "      <td>12427</td>\n",
       "      <td>3</td>\n",
       "      <td>...</td>\n",
       "      <td>both</td>\n",
       "      <td>12427</td>\n",
       "      <td>Original Beef Jerky</td>\n",
       "      <td>23</td>\n",
       "      <td>19</td>\n",
       "      <td>4.4</td>\n",
       "      <td>both</td>\n",
       "      <td>Regularly busy</td>\n",
       "      <td>Regularly busy</td>\n",
       "      <td>Average orders</td>\n",
       "    </tr>\n",
       "    <tr>\n",
       "      <th>3</th>\n",
       "      <td>0</td>\n",
       "      <td>0</td>\n",
       "      <td>2539329</td>\n",
       "      <td>1</td>\n",
       "      <td>1</td>\n",
       "      <td>2</td>\n",
       "      <td>8</td>\n",
       "      <td>NaN</td>\n",
       "      <td>26088</td>\n",
       "      <td>4</td>\n",
       "      <td>...</td>\n",
       "      <td>both</td>\n",
       "      <td>26089</td>\n",
       "      <td>Aged White Cheddar Popcorn</td>\n",
       "      <td>23</td>\n",
       "      <td>19</td>\n",
       "      <td>4.7</td>\n",
       "      <td>both</td>\n",
       "      <td>Regularly busy</td>\n",
       "      <td>Regularly busy</td>\n",
       "      <td>Average orders</td>\n",
       "    </tr>\n",
       "    <tr>\n",
       "      <th>4</th>\n",
       "      <td>0</td>\n",
       "      <td>0</td>\n",
       "      <td>2539329</td>\n",
       "      <td>1</td>\n",
       "      <td>1</td>\n",
       "      <td>2</td>\n",
       "      <td>8</td>\n",
       "      <td>NaN</td>\n",
       "      <td>26405</td>\n",
       "      <td>5</td>\n",
       "      <td>...</td>\n",
       "      <td>both</td>\n",
       "      <td>26406</td>\n",
       "      <td>XL Pick-A-Size Paper Towel Rolls</td>\n",
       "      <td>54</td>\n",
       "      <td>17</td>\n",
       "      <td>1.0</td>\n",
       "      <td>both</td>\n",
       "      <td>Regularly busy</td>\n",
       "      <td>Regularly busy</td>\n",
       "      <td>Average orders</td>\n",
       "    </tr>\n",
       "  </tbody>\n",
       "</table>\n",
       "<p>5 rows × 21 columns</p>\n",
       "</div>"
      ],
      "text/plain": [
       "   Unnamed: 0.1  Unnamed: 0_x  order_id  user_id  \\\n",
       "0             0             0   2539329        1   \n",
       "1             0             0   2539329        1   \n",
       "2             0             0   2539329        1   \n",
       "3             0             0   2539329        1   \n",
       "4             0             0   2539329        1   \n",
       "\n",
       "   customers_current_order_number  orders_day_of_week  order_hour_of_day  \\\n",
       "0                               1                   2                  8   \n",
       "1                               1                   2                  8   \n",
       "2                               1                   2                  8   \n",
       "3                               1                   2                  8   \n",
       "4                               1                   2                  8   \n",
       "\n",
       "   days_since_prior_order  product_id  add_to_cart_order  ...  _merge  \\\n",
       "0                     NaN         196                  1  ...    both   \n",
       "1                     NaN       14084                  2  ...    both   \n",
       "2                     NaN       12427                  3  ...    both   \n",
       "3                     NaN       26088                  4  ...    both   \n",
       "4                     NaN       26405                  5  ...    both   \n",
       "\n",
       "  Unnamed: 0_y                             product_name aisle_id  \\\n",
       "0          195                                     Soda       77   \n",
       "1        14084  Organic Unsweetened Vanilla Almond Milk       91   \n",
       "2        12427                      Original Beef Jerky       23   \n",
       "3        26089               Aged White Cheddar Popcorn       23   \n",
       "4        26406         XL Pick-A-Size Paper Towel Rolls       54   \n",
       "\n",
       "   department_id  prices  match     busiest_day    busiest_days  \\\n",
       "0              7     9.0   both  Regularly busy  Regularly busy   \n",
       "1             16    12.5   both  Regularly busy  Regularly busy   \n",
       "2             19     4.4   both  Regularly busy  Regularly busy   \n",
       "3             19     4.7   both  Regularly busy  Regularly busy   \n",
       "4             17     1.0   both  Regularly busy  Regularly busy   \n",
       "\n",
       "  busiest_period_of_day  \n",
       "0        Average orders  \n",
       "1        Average orders  \n",
       "2        Average orders  \n",
       "3        Average orders  \n",
       "4        Average orders  \n",
       "\n",
       "[5 rows x 21 columns]"
      ]
     },
     "execution_count": 7,
     "metadata": {},
     "output_type": "execute_result"
    }
   ],
   "source": [
    "# Check first few rows \n",
    "ords_prods_merge.head()"
   ]
  },
  {
   "cell_type": "code",
   "execution_count": 8,
   "id": "50c41165-c58c-4444-a2d7-97615077e24f",
   "metadata": {},
   "outputs": [
    {
     "data": {
      "text/plain": [
       "department_id\n",
       "1     15.457838\n",
       "2     17.277920\n",
       "3     17.170395\n",
       "4     17.811403\n",
       "5     15.215751\n",
       "6     16.439806\n",
       "7     17.225802\n",
       "8     15.340650\n",
       "9     15.895474\n",
       "10    20.197148\n",
       "11    16.170638\n",
       "12    15.887671\n",
       "13    16.583536\n",
       "14    16.773669\n",
       "15    16.165037\n",
       "16    17.665606\n",
       "17    15.694469\n",
       "18    19.310397\n",
       "19    17.177343\n",
       "20    16.473447\n",
       "21    22.902379\n",
       "Name: customers_current_order_number, dtype: float64"
      ]
     },
     "execution_count": 8,
     "metadata": {},
     "output_type": "execute_result"
    }
   ],
   "source": [
    "# Aggregated mean of the “order_number” column grouped by “department_id” for the entire dataframe.\n",
    "ords_prods_merge.groupby('department_id')['customers_current_order_number'].mean()"
   ]
  },
  {
   "cell_type": "code",
   "execution_count": 9,
   "id": "2f18dc6b-0266-4238-b8a0-5c067ed43b3e",
   "metadata": {},
   "outputs": [],
   "source": [
    "# Analyze the result: When comparing the full dataset to the subset, the average number of orders per department changes slightly. Most differences are small, \n",
    "# but a few departments show noticeable shifts that could impact larger-scale analysis."
   ]
  },
  {
   "cell_type": "code",
   "execution_count": 10,
   "id": "8e19aad4-0d22-404a-bb57-0ac77a3ba4b3",
   "metadata": {},
   "outputs": [
    {
     "name": "stderr",
     "output_type": "stream",
     "text": [
      "C:\\Users\\ztrim\\AppData\\Local\\Temp\\ipykernel_7204\\222626851.py:3: FutureWarning: The provided callable <function max at 0x000001AE38C4C860> is currently using SeriesGroupBy.max. In a future version of pandas, the provided callable will be used directly. To keep current behavior pass the string \"max\" instead.\n",
      "  ords_prods_merge['max_order'] = ords_prods_merge.groupby('user_id')['customers_current_order_number'].transform(np.max)\n"
     ]
    }
   ],
   "source": [
    "#  Create a loyalty flag for existing customers using the transform() and loc() functions. \n",
    "# transform(): \n",
    "ords_prods_merge['max_order'] = ords_prods_merge.groupby('user_id')['customers_current_order_number'].transform(np.max)"
   ]
  },
  {
   "cell_type": "code",
   "execution_count": 11,
   "id": "736761b1-1fb4-4536-83dc-874055bf446b",
   "metadata": {},
   "outputs": [],
   "source": [
    "# loc():\n",
    "ords_prods_merge.loc[ords_prods_merge['max_order'] > 40, 'loyalty_flag'] = 'Loyal Customer'\n",
    "ords_prods_merge.loc[(ords_prods_merge['max_order'] <= 40) & (ords_prods_merge['max_order'] > 10), 'loyalty_flag'] = 'Regular customer'\n",
    "ords_prods_merge.loc[ords_prods_merge['max_order'] <= 10, 'loyalty_flag'] = 'New customer'"
   ]
  },
  {
   "cell_type": "code",
   "execution_count": 12,
   "id": "10a6d847-5ae5-41fd-9c40-0040ec9afe4f",
   "metadata": {},
   "outputs": [
    {
     "data": {
      "text/plain": [
       "loyalty_flag\n",
       "Regular customer    15876776\n",
       "Loyal Customer      10284093\n",
       "New customer         6243990\n",
       "Name: count, dtype: int64"
      ]
     },
     "execution_count": 12,
     "metadata": {},
     "output_type": "execute_result"
    }
   ],
   "source": [
    "# Check the dataframe\n",
    "ords_prods_merge['loyalty_flag'].value_counts()"
   ]
  },
  {
   "cell_type": "code",
   "execution_count": 13,
   "id": "8664fb8a-79fc-4756-b29e-fd732677f8fb",
   "metadata": {},
   "outputs": [
    {
     "data": {
      "text/html": [
       "<div>\n",
       "<style scoped>\n",
       "    .dataframe tbody tr th:only-of-type {\n",
       "        vertical-align: middle;\n",
       "    }\n",
       "\n",
       "    .dataframe tbody tr th {\n",
       "        vertical-align: top;\n",
       "    }\n",
       "\n",
       "    .dataframe thead th {\n",
       "        text-align: right;\n",
       "    }\n",
       "</style>\n",
       "<table border=\"1\" class=\"dataframe\">\n",
       "  <thead>\n",
       "    <tr style=\"text-align: right;\">\n",
       "      <th></th>\n",
       "      <th>count</th>\n",
       "      <th>mean</th>\n",
       "      <th>std</th>\n",
       "      <th>min</th>\n",
       "      <th>25%</th>\n",
       "      <th>50%</th>\n",
       "      <th>75%</th>\n",
       "      <th>max</th>\n",
       "    </tr>\n",
       "    <tr>\n",
       "      <th>loyalty_flag</th>\n",
       "      <th></th>\n",
       "      <th></th>\n",
       "      <th></th>\n",
       "      <th></th>\n",
       "      <th></th>\n",
       "      <th></th>\n",
       "      <th></th>\n",
       "      <th></th>\n",
       "    </tr>\n",
       "  </thead>\n",
       "  <tbody>\n",
       "    <tr>\n",
       "      <th>Loyal Customer</th>\n",
       "      <td>10284093.0</td>\n",
       "      <td>10.386336</td>\n",
       "      <td>328.017787</td>\n",
       "      <td>1.0</td>\n",
       "      <td>4.2</td>\n",
       "      <td>7.4</td>\n",
       "      <td>11.2</td>\n",
       "      <td>99999.0</td>\n",
       "    </tr>\n",
       "    <tr>\n",
       "      <th>New customer</th>\n",
       "      <td>6243990.0</td>\n",
       "      <td>13.294670</td>\n",
       "      <td>597.560299</td>\n",
       "      <td>1.0</td>\n",
       "      <td>4.2</td>\n",
       "      <td>7.4</td>\n",
       "      <td>11.3</td>\n",
       "      <td>99999.0</td>\n",
       "    </tr>\n",
       "    <tr>\n",
       "      <th>Regular customer</th>\n",
       "      <td>15876776.0</td>\n",
       "      <td>12.495717</td>\n",
       "      <td>539.720919</td>\n",
       "      <td>1.0</td>\n",
       "      <td>4.2</td>\n",
       "      <td>7.4</td>\n",
       "      <td>11.3</td>\n",
       "      <td>99999.0</td>\n",
       "    </tr>\n",
       "  </tbody>\n",
       "</table>\n",
       "</div>"
      ],
      "text/plain": [
       "                       count       mean         std  min  25%  50%   75%  \\\n",
       "loyalty_flag                                                               \n",
       "Loyal Customer    10284093.0  10.386336  328.017787  1.0  4.2  7.4  11.2   \n",
       "New customer       6243990.0  13.294670  597.560299  1.0  4.2  7.4  11.3   \n",
       "Regular customer  15876776.0  12.495717  539.720919  1.0  4.2  7.4  11.3   \n",
       "\n",
       "                      max  \n",
       "loyalty_flag               \n",
       "Loyal Customer    99999.0  \n",
       "New customer      99999.0  \n",
       "Regular customer  99999.0  "
      ]
     },
     "execution_count": 13,
     "metadata": {},
     "output_type": "execute_result"
    }
   ],
   "source": [
    "# Use loyalty flag you created and check the basic statistics of the product prices for each loyalty category\n",
    "ords_prods_merge.groupby('loyalty_flag')['prices'].describe()"
   ]
  },
  {
   "cell_type": "code",
   "execution_count": 14,
   "id": "9976f398-9d7c-4db5-8f40-55e5b6702ce6",
   "metadata": {},
   "outputs": [],
   "source": [
    "# Loyal customers tend to spend less per product on average than new or regular customers, \n",
    "# which could suggest they stick to familiar, lower-priced items."
   ]
  },
  {
   "cell_type": "code",
   "execution_count": 15,
   "id": "963510fa-ec9d-4168-a60d-c8c9180d1ce2",
   "metadata": {},
   "outputs": [
    {
     "name": "stderr",
     "output_type": "stream",
     "text": [
      "C:\\Users\\ztrim\\AppData\\Local\\Temp\\ipykernel_7204\\4263370518.py:5: FutureWarning: The provided callable <function mean at 0x000001AE38C4D260> is currently using SeriesGroupBy.mean. In a future version of pandas, the provided callable will be used directly. To keep current behavior pass the string \"mean\" instead.\n",
      "  ords_prods_merge['avg_spend_user'] = ords_prods_merge.groupby('user_id')['prices'].transform(np.mean)\n"
     ]
    }
   ],
   "source": [
    "# Create a spending flag for each user based on the average price across all their orders:\n",
    "# - If the mean of the prices of products purchased by a user is lower than 10, then flag them as a “Low spender.\n",
    "# - If the mean of the prices of products purchased by a user is higher than or equal to 10, then flag them as a “High spender.”\n",
    "# Transform()\n",
    "ords_prods_merge['avg_spend_user'] = ords_prods_merge.groupby('user_id')['prices'].transform(np.mean)"
   ]
  },
  {
   "cell_type": "code",
   "execution_count": 16,
   "id": "fce0d9af-1e2c-4be7-bcc3-8fd613481053",
   "metadata": {},
   "outputs": [],
   "source": [
    "# loc():\n",
    "ords_prods_merge.loc[ords_prods_merge['avg_spend_user'] < 10, 'spending_flag'] = 'Low spender'\n",
    "ords_prods_merge.loc[ords_prods_merge['avg_spend_user'] >= 10, 'spending_flag'] = 'High spender'"
   ]
  },
  {
   "cell_type": "code",
   "execution_count": 17,
   "id": "c4e9db6a-4d3b-4fe4-b20e-b19a7decad52",
   "metadata": {},
   "outputs": [
    {
     "data": {
      "text/plain": [
       "spending_flag\n",
       "Low spender     31770614\n",
       "High spender      634245\n",
       "Name: count, dtype: int64"
      ]
     },
     "execution_count": 17,
     "metadata": {},
     "output_type": "execute_result"
    }
   ],
   "source": [
    "# Check the dataframe\n",
    "ords_prods_merge['spending_flag'].value_counts()"
   ]
  },
  {
   "cell_type": "code",
   "execution_count": 18,
   "id": "abe8306d-b714-4428-8eb8-c04b96b9d4f1",
   "metadata": {},
   "outputs": [
    {
     "name": "stderr",
     "output_type": "stream",
     "text": [
      "C:\\Users\\ztrim\\AppData\\Local\\Temp\\ipykernel_7204\\38755232.py:4: FutureWarning: The provided callable <function median at 0x000001AE38D83EC0> is currently using SeriesGroupBy.median. In a future version of pandas, the provided callable will be used directly. To keep current behavior pass the string \"median\" instead.\n",
      "  ords_prods_merge['ord_regularity_median'] = ords_prods_merge.groupby('user_id')['days_since_prior_order'].transform(np.median)\n"
     ]
    }
   ],
   "source": [
    "# Determine frequent versus non-frequent customers\n",
    "# Create a flag for order frequency based on the median of \"days_since_prior_order\".\n",
    "# transform()\n",
    "ords_prods_merge['ord_regularity_median'] = ords_prods_merge.groupby('user_id')['days_since_prior_order'].transform(np.median)"
   ]
  },
  {
   "cell_type": "code",
   "execution_count": 19,
   "id": "814e1cdd-598e-4f17-a149-da628c7dd240",
   "metadata": {},
   "outputs": [],
   "source": [
    "# loc(): \n",
    "ords_prods_merge.loc[ords_prods_merge['ord_regularity_median'] > 20, 'frequency_flag'] = 'Non-frequent customer'\n",
    "ords_prods_merge.loc[(ords_prods_merge['ord_regularity_median'] > 10) & (ords_prods_merge['ord_regularity_median'] <= 20), 'frequency_flag'] = 'Regular customer'\n",
    "ords_prods_merge.loc[ords_prods_merge['ord_regularity_median'] <= 10, 'frequency_flag'] = 'Frequent customer'"
   ]
  },
  {
   "cell_type": "code",
   "execution_count": 20,
   "id": "d34539b9-1a5a-4159-add3-1326d98dd691",
   "metadata": {},
   "outputs": [
    {
     "data": {
      "text/plain": [
       "frequency_flag\n",
       "Frequent customer        21559853\n",
       "Regular customer          7208564\n",
       "Non-frequent customer     3636437\n",
       "Name: count, dtype: int64"
      ]
     },
     "execution_count": 20,
     "metadata": {},
     "output_type": "execute_result"
    }
   ],
   "source": [
    "# Check the dataframe\n",
    "ords_prods_merge['frequency_flag'].value_counts()"
   ]
  },
  {
   "cell_type": "code",
   "execution_count": 21,
   "id": "f3d95496-876a-42d5-8930-c920aaf81070",
   "metadata": {},
   "outputs": [],
   "source": [
    "# Export the dataframe\n",
    "ords_prods_merge.to_pickle(os.path.join(path, '02 Data', 'Prepared Data', 'ords_prods_merge_4_8.pkl'))"
   ]
  }
 ],
 "metadata": {
  "kernelspec": {
   "display_name": "Python [conda env:base] *",
   "language": "python",
   "name": "conda-base-py"
  },
  "language_info": {
   "codemirror_mode": {
    "name": "ipython",
    "version": 3
   },
   "file_extension": ".py",
   "mimetype": "text/x-python",
   "name": "python",
   "nbconvert_exporter": "python",
   "pygments_lexer": "ipython3",
   "version": "3.12.7"
  }
 },
 "nbformat": 4,
 "nbformat_minor": 5
}
