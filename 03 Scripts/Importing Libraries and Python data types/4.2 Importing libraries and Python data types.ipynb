{
 "cells": [
  {
   "cell_type": "markdown",
   "id": "3cedd3d3-4956-425e-aa21-c9a6a4024b06",
   "metadata": {},
   "source": [
    "# 01. Importing Libraries"
   ]
  },
  {
   "cell_type": "code",
   "execution_count": 3,
   "id": "4704e42f-8ce6-40cb-b377-417c35c52259",
   "metadata": {},
   "outputs": [],
   "source": [
    "#Import libraries\n",
    "import pandas as pd\n",
    "import numpy as np\n",
    "import os"
   ]
  },
  {
   "cell_type": "markdown",
   "id": "0f2dd829-f8fe-4971-acd1-bd56df316ee0",
   "metadata": {},
   "source": [
    "# Python data types"
   ]
  },
  {
   "cell_type": "code",
   "execution_count": 33,
   "id": "bc6f9abb-eb48-47a2-bb1f-ec92b9cd50e1",
   "metadata": {},
   "outputs": [],
   "source": [
    "## 7"
   ]
  },
  {
   "cell_type": "code",
   "execution_count": 30,
   "id": "d03e49d9-3d69-4a78-a139-0b099ea30088",
   "metadata": {},
   "outputs": [
    {
     "data": {
      "text/plain": [
       "100"
      ]
     },
     "execution_count": 30,
     "metadata": {},
     "output_type": "execute_result"
    }
   ],
   "source": [
    "a = 40\n",
    "b = 60\n",
    "a + b"
   ]
  },
  {
   "cell_type": "code",
   "execution_count": 31,
   "id": "52ab1a15-c935-4016-8639-3dc7bf9b0d94",
   "metadata": {},
   "outputs": [
    {
     "data": {
      "text/plain": [
       "100"
      ]
     },
     "execution_count": 31,
     "metadata": {},
     "output_type": "execute_result"
    }
   ],
   "source": [
    "x = 150\n",
    "y = 50\n",
    "x - y"
   ]
  },
  {
   "cell_type": "code",
   "execution_count": 32,
   "id": "dadb2062-984b-4d5d-aeba-558d7e09589d",
   "metadata": {},
   "outputs": [
    {
     "data": {
      "text/plain": [
       "100"
      ]
     },
     "execution_count": 32,
     "metadata": {},
     "output_type": "execute_result"
    }
   ],
   "source": [
    "a = 98\n",
    "x = 2\n",
    "a + x"
   ]
  },
  {
   "cell_type": "code",
   "execution_count": 34,
   "id": "14986ca4-17a4-4376-b697-42104608f069",
   "metadata": {},
   "outputs": [],
   "source": [
    "## 8"
   ]
  },
  {
   "cell_type": "code",
   "execution_count": 35,
   "id": "0279b889-5807-4e54-a0fd-8aafd93b30c5",
   "metadata": {
    "scrolled": true
   },
   "outputs": [
    {
     "data": {
      "text/plain": [
       "6.0"
      ]
     },
     "execution_count": 35,
     "metadata": {},
     "output_type": "execute_result"
    }
   ],
   "source": [
    "30.0 / 5.0"
   ]
  },
  {
   "cell_type": "code",
   "execution_count": 36,
   "id": "4a7e8f35-78ab-416d-8c3c-1e68c90a2140",
   "metadata": {},
   "outputs": [],
   "source": [
    "## 9"
   ]
  },
  {
   "cell_type": "code",
   "execution_count": 39,
   "id": "eb8a05e2-83a5-451a-ad4a-19475dbc7e2b",
   "metadata": {},
   "outputs": [
    {
     "data": {
      "text/plain": [
       "'neko'"
      ]
     },
     "execution_count": 39,
     "metadata": {},
     "output_type": "execute_result"
    }
   ],
   "source": [
    "'n'+ 'e' + 'k' + 'o'"
   ]
  },
  {
   "cell_type": "code",
   "execution_count": 40,
   "id": "04131b5c-b223-4ec4-b0df-8d49847ca05f",
   "metadata": {},
   "outputs": [],
   "source": [
    "## 10"
   ]
  },
  {
   "cell_type": "code",
   "execution_count": 42,
   "id": "676bd4a0-bab0-42a2-a13e-499fade4fe9b",
   "metadata": {},
   "outputs": [
    {
     "data": {
      "text/plain": [
       "'Python is fun'"
      ]
     },
     "execution_count": 42,
     "metadata": {},
     "output_type": "execute_result"
    }
   ],
   "source": [
    "'Python' + ' ' + 'is' + ' ' + 'fun'"
   ]
  },
  {
   "cell_type": "markdown",
   "id": "fa11db52-a47f-47f9-94bf-9360c71882aa",
   "metadata": {},
   "source": [
    "# Exercise 4.2 workthrough"
   ]
  },
  {
   "cell_type": "markdown",
   "id": "63cb4802-32e7-4179-b7ca-65b49367b356",
   "metadata": {
    "jupyter": {
     "source_hidden": true
    }
   },
   "source": [
    "# Integers"
   ]
  },
  {
   "cell_type": "code",
   "execution_count": 4,
   "id": "bdb993be-5b87-4e19-8f3c-a07e06f27d5b",
   "metadata": {},
   "outputs": [],
   "source": [
    "x = 2"
   ]
  },
  {
   "cell_type": "code",
   "execution_count": 5,
   "id": "732f7525-267c-48ee-a511-46f7cc979841",
   "metadata": {},
   "outputs": [
    {
     "data": {
      "text/plain": [
       "2"
      ]
     },
     "execution_count": 5,
     "metadata": {},
     "output_type": "execute_result"
    }
   ],
   "source": [
    "x"
   ]
  },
  {
   "cell_type": "code",
   "execution_count": 6,
   "id": "7fdb7a8e-4e56-4a8e-9f83-83931afb703b",
   "metadata": {},
   "outputs": [
    {
     "name": "stdout",
     "output_type": "stream",
     "text": [
      "2\n"
     ]
    }
   ],
   "source": [
    "print(x)"
   ]
  },
  {
   "cell_type": "code",
   "execution_count": 7,
   "id": "4fd88e48-2019-4aa0-8ee6-742579ee7c3a",
   "metadata": {},
   "outputs": [
    {
     "data": {
      "text/plain": [
       "int"
      ]
     },
     "execution_count": 7,
     "metadata": {},
     "output_type": "execute_result"
    }
   ],
   "source": [
    "type(x)"
   ]
  },
  {
   "cell_type": "markdown",
   "id": "48949897-c695-4443-b679-50db66b101bb",
   "metadata": {},
   "source": [
    "# Floatingpoint numbers"
   ]
  },
  {
   "cell_type": "code",
   "execution_count": 8,
   "id": "624e4fbb-148c-4cee-85cb-e03be72c5c2a",
   "metadata": {},
   "outputs": [],
   "source": [
    "y = 5.678 "
   ]
  },
  {
   "cell_type": "code",
   "execution_count": 9,
   "id": "4d991d4b-810c-47c0-a051-f1bc14b34d8e",
   "metadata": {},
   "outputs": [
    {
     "data": {
      "text/plain": [
       "float"
      ]
     },
     "execution_count": 9,
     "metadata": {},
     "output_type": "execute_result"
    }
   ],
   "source": [
    "type(y)"
   ]
  },
  {
   "cell_type": "markdown",
   "id": "40a1031e-c6b6-4680-b829-f0552282cf7d",
   "metadata": {},
   "source": [
    "# Strings"
   ]
  },
  {
   "cell_type": "code",
   "execution_count": 10,
   "id": "ca377c12-0d96-481b-b9a4-bb5434ac163d",
   "metadata": {},
   "outputs": [],
   "source": [
    "z = 'Brazil'"
   ]
  },
  {
   "cell_type": "code",
   "execution_count": 11,
   "id": "279418bb-0b99-4328-9dc6-b86e4feaff10",
   "metadata": {},
   "outputs": [
    {
     "data": {
      "text/plain": [
       "str"
      ]
     },
     "execution_count": 11,
     "metadata": {},
     "output_type": "execute_result"
    }
   ],
   "source": [
    "type(z)"
   ]
  },
  {
   "cell_type": "code",
   "execution_count": 13,
   "id": "1891f261-60d6-4f62-9302-409a355538ee",
   "metadata": {},
   "outputs": [
    {
     "data": {
      "text/plain": [
       "str"
      ]
     },
     "execution_count": 13,
     "metadata": {},
     "output_type": "execute_result"
    }
   ],
   "source": [
    "type('Mania')"
   ]
  },
  {
   "cell_type": "markdown",
   "id": "8330030b-b23e-47c7-9074-e89b3a82a8ee",
   "metadata": {},
   "source": [
    "# Boolean"
   ]
  },
  {
   "cell_type": "code",
   "execution_count": 14,
   "id": "7e3893d0-721d-40c1-a086-55fb6cbada8f",
   "metadata": {},
   "outputs": [
    {
     "data": {
      "text/plain": [
       "bool"
      ]
     },
     "execution_count": 14,
     "metadata": {},
     "output_type": "execute_result"
    }
   ],
   "source": [
    "type(True)"
   ]
  },
  {
   "cell_type": "code",
   "execution_count": 15,
   "id": "45cb1d1b-d5ee-4f1a-af0a-f3f7f74f72cd",
   "metadata": {},
   "outputs": [
    {
     "data": {
      "text/plain": [
       "bool"
      ]
     },
     "execution_count": 15,
     "metadata": {},
     "output_type": "execute_result"
    }
   ],
   "source": [
    "type(False)"
   ]
  },
  {
   "cell_type": "markdown",
   "id": "0b3b969b-a1c7-4281-8a05-1f5c98fff331",
   "metadata": {},
   "source": [
    "# Integers and Floats"
   ]
  },
  {
   "cell_type": "code",
   "execution_count": 16,
   "id": "8bea921f-7513-4656-acd7-7ae192295081",
   "metadata": {},
   "outputs": [
    {
     "name": "stdout",
     "output_type": "stream",
     "text": [
      "2\n"
     ]
    }
   ],
   "source": [
    "print(x)"
   ]
  },
  {
   "cell_type": "code",
   "execution_count": 19,
   "id": "317a32da-9519-4f38-b4e9-62989a19426c",
   "metadata": {},
   "outputs": [],
   "source": [
    "x = x + 4"
   ]
  },
  {
   "cell_type": "code",
   "execution_count": 20,
   "id": "8b76b845-1a14-497a-bfca-98372e290a75",
   "metadata": {},
   "outputs": [
    {
     "name": "stdout",
     "output_type": "stream",
     "text": [
      "6\n"
     ]
    }
   ],
   "source": [
    "print(x)"
   ]
  },
  {
   "cell_type": "code",
   "execution_count": 18,
   "id": "5646bc2d-f816-43b2-b985-9b0dce8e831b",
   "metadata": {},
   "outputs": [
    {
     "data": {
      "text/plain": [
       "7.678"
      ]
     },
     "execution_count": 18,
     "metadata": {},
     "output_type": "execute_result"
    }
   ],
   "source": [
    "x + y"
   ]
  },
  {
   "cell_type": "code",
   "execution_count": 21,
   "id": "a0af5ae0-3f87-47f6-844d-98e023cdc15c",
   "metadata": {},
   "outputs": [],
   "source": [
    "a = 'hello,'"
   ]
  },
  {
   "cell_type": "code",
   "execution_count": 22,
   "id": "0eb7d363-8838-47a3-be23-9e10ffe227e3",
   "metadata": {},
   "outputs": [],
   "source": [
    "b = 'Marley'"
   ]
  },
  {
   "cell_type": "code",
   "execution_count": 23,
   "id": "3173c5bb-4dd3-4906-a34b-bc9f5f77063a",
   "metadata": {},
   "outputs": [
    {
     "data": {
      "text/plain": [
       "'hello,Marley'"
      ]
     },
     "execution_count": 23,
     "metadata": {},
     "output_type": "execute_result"
    }
   ],
   "source": [
    "a + b "
   ]
  },
  {
   "cell_type": "code",
   "execution_count": 24,
   "id": "7fc3f289-dd51-47c2-be47-0648869116d7",
   "metadata": {},
   "outputs": [],
   "source": [
    "n = 'potato'"
   ]
  },
  {
   "cell_type": "code",
   "execution_count": 25,
   "id": "164be061-d375-48fc-a8e2-ee110c67fcb8",
   "metadata": {},
   "outputs": [
    {
     "data": {
      "text/plain": [
       "'potatopotatopotatopotatopotatopotatopotatopotatopotatopotatopotatopotato'"
      ]
     },
     "execution_count": 25,
     "metadata": {},
     "output_type": "execute_result"
    }
   ],
   "source": [
    "n * 12"
   ]
  },
  {
   "cell_type": "code",
   "execution_count": 26,
   "id": "4de2877b-a39a-4ca3-ac52-2906b530735b",
   "metadata": {},
   "outputs": [
    {
     "data": {
      "text/plain": [
       "False"
      ]
     },
     "execution_count": 26,
     "metadata": {},
     "output_type": "execute_result"
    }
   ],
   "source": [
    "x == y"
   ]
  },
  {
   "cell_type": "code",
   "execution_count": 27,
   "id": "32cea7f2-b8aa-4d00-a265-dce15030ced9",
   "metadata": {},
   "outputs": [
    {
     "data": {
      "text/plain": [
       "bool"
      ]
     },
     "execution_count": 27,
     "metadata": {},
     "output_type": "execute_result"
    }
   ],
   "source": [
    "type(x==y)"
   ]
  },
  {
   "cell_type": "code",
   "execution_count": null,
   "id": "64c420e9-3f44-41de-9400-fd07aecb03ab",
   "metadata": {},
   "outputs": [],
   "source": []
  }
 ],
 "metadata": {
  "kernelspec": {
   "display_name": "Python [conda env:base] *",
   "language": "python",
   "name": "conda-base-py"
  },
  "language_info": {
   "codemirror_mode": {
    "name": "ipython",
    "version": 3
   },
   "file_extension": ".py",
   "mimetype": "text/x-python",
   "name": "python",
   "nbconvert_exporter": "python",
   "pygments_lexer": "ipython3",
   "version": "3.12.7"
  }
 },
 "nbformat": 4,
 "nbformat_minor": 5
}
