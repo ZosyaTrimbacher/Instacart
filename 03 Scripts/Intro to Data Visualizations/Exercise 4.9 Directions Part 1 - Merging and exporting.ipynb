{
 "cells": [
  {
   "cell_type": "code",
   "execution_count": 16,
   "id": "bb5a238c-e58d-41b5-b43b-ea30237a82b1",
   "metadata": {},
   "outputs": [],
   "source": [
    "# Importing libraries \n",
    "import pandas as pd\n",
    "import numpy as np\n",
    "import os\n",
    "import matplotlib.pyplot as plt\n",
    "import seaborn as sns\n",
    "import scipy"
   ]
  },
  {
   "cell_type": "code",
   "execution_count": 17,
   "id": "d3a2e40e-cb62-4991-aa97-86efba849df9",
   "metadata": {},
   "outputs": [],
   "source": [
    "# Importing customer dataframe\n",
    "path = r'C:\\Users\\ztrim\\06-2025 Instacart Basket Analysis'"
   ]
  },
  {
   "cell_type": "code",
   "execution_count": 18,
   "id": "09d46640-20c5-4544-a246-255a76943905",
   "metadata": {},
   "outputs": [
    {
     "data": {
      "text/plain": [
       "'C:\\\\Users\\\\ztrim\\\\06-2025 Instacart Basket Analysis'"
      ]
     },
     "execution_count": 18,
     "metadata": {},
     "output_type": "execute_result"
    }
   ],
   "source": [
    "path"
   ]
  },
  {
   "cell_type": "markdown",
   "id": "b3e8b287-17cb-4228-8c73-1e94d5f077c3",
   "metadata": {},
   "source": [
    "## Part 1, step 6 - Combine your customer data and Instacart data"
   ]
  },
  {
   "cell_type": "code",
   "execution_count": 19,
   "id": "1e4f5237-06dd-4fa8-bf73-8f1cd28a05bd",
   "metadata": {},
   "outputs": [],
   "source": [
    "# Import customers clean dataframe\n",
    "df_customers = pd.read_csv(os.path.join(path, '02 Data', 'Prepared Data', 'customers_cleaned.csv'), index_col = False)"
   ]
  },
  {
   "cell_type": "code",
   "execution_count": 20,
   "id": "7203fa7a-1699-459f-a58d-49c642d7cb58",
   "metadata": {},
   "outputs": [],
   "source": [
    "# Import Instacard data \n",
    "df_ords_prods_merge = pd.read_pickle(os.path.join(path, '02 Data', 'Prepared Data', 'ords_prods_merge_4_8.pkl'))"
   ]
  },
  {
   "cell_type": "code",
   "execution_count": 21,
   "id": "061eba8f-bc7d-497f-b47c-99bae3ecb3ea",
   "metadata": {},
   "outputs": [
    {
     "data": {
      "text/plain": [
       "dtype('int64')"
      ]
     },
     "execution_count": 21,
     "metadata": {},
     "output_type": "execute_result"
    }
   ],
   "source": [
    "# Check data type of user_id column\n",
    "df_ords_prods_merge['user_id'].dtype"
   ]
  },
  {
   "cell_type": "code",
   "execution_count": 22,
   "id": "28cb178e-e877-41cd-b7dd-761b979f5c6f",
   "metadata": {},
   "outputs": [],
   "source": [
    "# Since I changed user_id to string previously in the customer dataframe I will now do the same in my dataframe so it matches \n",
    "df_ords_prods_merge['user_id'] = df_ords_prods_merge['user_id'].astype('str')"
   ]
  },
  {
   "cell_type": "code",
   "execution_count": 24,
   "id": "296c8ba2-1923-43e6-b7e5-27776f4b8728",
   "metadata": {},
   "outputs": [],
   "source": [
    "# Change user_id to string in customer dataframe again as I am getting an error because Pandas likely turned it back to Int \n",
    "df_customers['user_id'] = df_customers['user_id'].astype('str')"
   ]
  },
  {
   "cell_type": "code",
   "execution_count": 25,
   "id": "f268a235-012d-47bd-83ec-57458028bba8",
   "metadata": {},
   "outputs": [],
   "source": [
    "# Merge both datatsets \n",
    "df_merged = df_ords_prods_merge.merge(df_customers, on='user_id', indicator='merge_status')"
   ]
  },
  {
   "cell_type": "code",
   "execution_count": 26,
   "id": "51eb6713-f141-4cd0-a123-ffca0d7d19e0",
   "metadata": {},
   "outputs": [
    {
     "data": {
      "text/plain": [
       "merge_status\n",
       "both          32404859\n",
       "left_only            0\n",
       "right_only           0\n",
       "Name: count, dtype: int64"
      ]
     },
     "execution_count": 26,
     "metadata": {},
     "output_type": "execute_result"
    }
   ],
   "source": [
    "df_merged['merge_status'].value_counts()"
   ]
  },
  {
   "cell_type": "code",
   "execution_count": 27,
   "id": "70532d28-5443-45cb-bed4-4613b7e1b31f",
   "metadata": {},
   "outputs": [
    {
     "data": {
      "text/plain": [
       "(32404859, 37)"
      ]
     },
     "execution_count": 27,
     "metadata": {},
     "output_type": "execute_result"
    }
   ],
   "source": [
    "# Check the shape of the dataframe \n",
    "df_merged.shape"
   ]
  },
  {
   "cell_type": "code",
   "execution_count": 28,
   "id": "0a99ff80-06ac-45cc-872e-72f671413a2c",
   "metadata": {},
   "outputs": [],
   "source": [
    "# Export merged dataframe to use in second part of the task\n",
    "df_merged.to_pickle(os.path.join(path, '02 Data', 'Prepared Data', 'merged_dataframe_4_9.pkl'))"
   ]
  }
 ],
 "metadata": {
  "kernelspec": {
   "display_name": "Python [conda env:base] *",
   "language": "python",
   "name": "conda-base-py"
  },
  "language_info": {
   "codemirror_mode": {
    "name": "ipython",
    "version": 3
   },
   "file_extension": ".py",
   "mimetype": "text/x-python",
   "name": "python",
   "nbconvert_exporter": "python",
   "pygments_lexer": "ipython3",
   "version": "3.12.7"
  }
 },
 "nbformat": 4,
 "nbformat_minor": 5
}
